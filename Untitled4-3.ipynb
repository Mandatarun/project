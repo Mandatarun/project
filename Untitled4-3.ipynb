{
 "cells": [
  {
   "cell_type": "code",
   "execution_count": 1,
   "id": "36d8fbfc",
   "metadata": {},
   "outputs": [],
   "source": [
    "import math\n",
    "import random\n",
    "import numpy as np\n",
    "import matplotlib\n",
    "import matplotlib.pyplot as plt\n",
    "from collections import namedtuple\n",
    "from itertools import count\n",
    "from PIL import Image\n",
    "import torch\n",
    "import gym\n",
    "from gym import logger as gymlogger\n",
    "from gym.wrappers.record_video import RecordVideo\n",
    "from gym.wrappers import Monitor\n",
    "gymlogger.set_level(30)\n",
    "import glob\n",
    "import io\n",
    "import os\n",
    "import base64\n",
    "from collections import deque\n",
    "from datetime import datetime\n",
    "from IPython.display import HTML\n",
    "from IPython import display as ipythondisplay\n",
    "from pyvirtualdisplay import Display\n",
    "import wandb\n",
    "import time\n",
    "\n",
    "is_ipython = 'inline' in matplotlib.get_backend()\n",
    "if is_ipython:\n",
    "    from IPython import display\n",
    "\n",
    "# if gpu is to be used\n",
    "device = torch.device(\"cuda\" if torch.cuda.is_available() else \"cpu\")"
   ]
  },
  {
   "cell_type": "code",
   "execution_count": 2,
   "id": "3277d47d",
   "metadata": {},
   "outputs": [
    {
     "name": "stdout",
     "output_type": "stream",
     "text": [
      "fatal: destination path 'car_racer_gym' already exists and is not an empty directory.\n",
      "/Users/shishirareddy/car_racer_gym\n"
     ]
    }
   ],
   "source": [
    "!git clone https://github.com/AGiannoutsos/car_racer_gym.git\n",
    "%cd car_racer_gym\n",
    "\n",
    "from car_racing import CarRacingDiscrete"
   ]
  },
  {
   "cell_type": "code",
   "execution_count": 3,
   "id": "b7573f3b",
   "metadata": {},
   "outputs": [],
   "source": [
    "from stable_baselines3.common.callbacks import BaseCallback\n",
    "\n",
    "class DQNCustomCallback(BaseCallback):\n",
    "    \"\"\"\n",
    "    A custom callback that derives from ``BaseCallback``.\n",
    "\n",
    "    :param verbose: (int) Verbosity level 0: not output 1: info 2: debug\n",
    "    \"\"\"\n",
    "    def __init__(self, verbose=0):\n",
    "        super(DQNCustomCallback, self).__init__(verbose)\n",
    "        # Those variables will be accessible in the callback\n",
    "        # (they are defined in the base class)\n",
    "        # The RL model\n",
    "        # self.model = None  # type: BaseAlgorithm\n",
    "        # An alias for self.model.get_env(), the environment used for training\n",
    "        # self.training_env = None  # type: Union[gym.Env, VecEnv, None]\n",
    "        # Number of time the callback was called\n",
    "        # self.n_calls = 0  # type: int\n",
    "        # self.num_timesteps = 0  # type: int\n",
    "        # local and global variables\n",
    "        # self.locals = None  # type: Dict[str, Any]\n",
    "        # self.globals = None  # type: Dict[str, Any]\n",
    "        # The logger object, used to report things in the terminal\n",
    "        # self.logger = None  # stable_baselines3.common.logger\n",
    "        # # Sometimes, for event callback, it is useful\n",
    "        # # to have access to the parent object\n",
    "        # self.parent = None  # type: Optional[BaseCallback]\n",
    "        self.episodes = 0\n",
    "        self.total_episode_reward = 0\n",
    " \n",
    "    def _on_training_start(self) -> None:\n",
    "        \"\"\"\n",
    "        This method is called before the first rollout starts.\n",
    "        \"\"\"\n",
    "        pass\n",
    "\n",
    "    def _on_rollout_start(self) -> None:\n",
    "        \"\"\"\n",
    "        A rollout is the collection of environment interaction\n",
    "        using the current policy.\n",
    "        This event is triggered before collecting new samples.\n",
    "        \"\"\"\n",
    "        pass\n",
    "\n",
    "    def _on_step(self) -> bool:\n",
    "        # update commulative reward to log at the end of every episode\n",
    "        self.total_episode_reward += self.locals[\"reward\"]\n",
    "        # at the end of every episode\n",
    "        if self.locals[\"done\"][0]:\n",
    "\n",
    "            # log the reward value if its time to not log 2 times\n",
    "            if self.episodes % self.locals[\"log_interval\"] != 0: \n",
    "                wandb.log({\"reward_per_episode\": self.total_episode_reward})\n",
    "\n",
    "            # if log interval has passed\n",
    "            if self.episodes % self.locals[\"log_interval\"] == 0:\n",
    "                # log at wandb and print the last video\n",
    "                # Save your model and optimizer\n",
    "                self.model.save(MODEL_SAVE_NAME)\n",
    "                # Save as artifact for version control.\n",
    "                artifact = wandb.Artifact(MODEL_SAVE_NAME, type='model')\n",
    "                artifact.add_file(MODEL_SAVE_NAME+\".zip\")\n",
    "                wandb.log_artifact(artifact)\n",
    "                wandb.log({\"reward_per_episode\": self.total_episode_reward})\n",
    "\n",
    "\n",
    "                mp4list = glob.glob('video/*.mp4')\n",
    "                print(mp4list)\n",
    "                if len(mp4list) > 0:\n",
    "                    print(len(mp4list))\n",
    "                    mp4 = mp4list[-1]\n",
    "                    video = io.open(mp4, 'r+b').read()\n",
    "                    encoded = base64.b64encode(video)\n",
    "\n",
    "                    # log gameplay video in wandb\n",
    "                    wandb.log({\"gameplays\": wandb.Video(mp4, fps=4, format=\"gif\")})\n",
    "\n",
    "                    # display gameplay video\n",
    "                    ipythondisplay.clear_output(wait=True)\n",
    "                    ipythondisplay.display(HTML(data='''<video alt=\"\" autoplay \n",
    "                                loop controls style=\"height: 400px;\">\n",
    "                                <source src=\"data:video/mp4;base64,{0}\" type=\"video/mp4\" />\n",
    "                            </video>'''.format(encoded.decode('ascii'))))\n",
    "                    print(\"Episode:\", self.episodes)\n",
    "            self.episodes += 1\n",
    "            self.total_episode_reward = 0\n",
    "\n",
    "        \n",
    "        return True\n",
    "\n",
    "    def _on_rollout_end(self) -> None:\n",
    "        \"\"\"\n",
    "        This event is triggered before updating the policy.\n",
    "        \"\"\"\n",
    "        pass\n",
    "\n",
    "    def _on_training_end(self) -> None:\n",
    "        \"\"\"\n",
    "        This event is triggered before exiting the `learn()` method.\n",
    "        \"\"\"\n",
    "        pass"
   ]
  },
  {
   "cell_type": "code",
   "execution_count": 4,
   "id": "46e51fc0",
   "metadata": {},
   "outputs": [
    {
     "name": "stdout",
     "output_type": "stream",
     "text": [
      "Track generation: 1160..1454 -> 294-tiles track\n"
     ]
    }
   ],
   "source": [
    "env = CarRacingDiscrete()\n",
    "\n",
    "env.reset()\n",
    "env.render()\n",
    "im = env.render(\"state_pixels\")"
   ]
  },
  {
   "cell_type": "code",
   "execution_count": 5,
   "id": "8c7a79b3",
   "metadata": {},
   "outputs": [
    {
     "data": {
      "text/plain": [
       "<matplotlib.image.AxesImage at 0x17ab4ef50>"
      ]
     },
     "execution_count": 5,
     "metadata": {},
     "output_type": "execute_result"
    },
    {
     "data": {
      "image/png": "[encoded data removed]",
      "text/plain": [
       "<Figure size 640x480 with 1 Axes>"
      ]
     },
     "metadata": {},
     "output_type": "display_data"
    }
   ],
   "source": [
    "def state_image_preprocess(state_image):\n",
    "    state_image = state_image.transpose((2,0,1))\n",
    "    state_image = np.ascontiguousarray(state_image, dtype=np.float32) / 255\n",
    "    state_image = torch.from_numpy(state_image)\n",
    "    return state_image.unsqueeze(0).to(device)\n",
    "\n",
    "state_image_preprocess(im).shape\n",
    "plt.imshow(state_image_preprocess(im).cpu().squeeze(0).permute(1, 2, 0).numpy())"
   ]
  },
  {
   "cell_type": "code",
   "execution_count": 6,
   "id": "2a2a539f",
   "metadata": {},
   "outputs": [],
   "source": [
    "from stable_baselines3.common.callbacks import BaseCallback\n",
    "\n",
    "class DQNCustomCallback(BaseCallback):\n",
    "    def __init__(self, verbose=0):\n",
    "        super(DQNCustomCallback, self).__init__(verbose=verbose)\n",
    "        self.total_episode_reward = 0\n",
    "\n",
    "    def _on_step(self) -> bool:\n",
    "        if \"reward\" not in self.locals:\n",
    "            return True\n",
    "        self.total_episode_reward += self.locals[\"reward\"]\n",
    "        if self.locals[\"done\"][0]:\n",
    "            if self.num_timesteps > 0 and self.episode_number % self.verbose == 0:\n",
    "                mean_reward = self.total_episode_reward / self.verbose\n",
    "                print(f\"Episode: {self.episode_number}, Mean reward: {mean_reward}\")\n",
    "                wandb.log({\"Mean Reward\": mean_reward})\n",
    "                self.total_episode_reward = 0\n",
    "        return True\n"
   ]
  },
  {
   "cell_type": "code",
   "execution_count": null,
   "id": "0db28f0a",
   "metadata": {},
   "outputs": [],
   "source": [
    "def evaluate_version(model, env, version_name, version, video_path):\n",
    "    # get version of model\n",
    "    MODEL_SAVE_NAME     = version_name\n",
    "    SAVED_MODEL_VERSION = version\n",
    "    # wnadb api key: 00d5bfbd342bb73d5aaf4f2833436d20457ef040\n",
    "    os.environ[\"WANDB_ENTITY\"]  = \"shisihrareddy1830\"\n",
    "    os.environ[\"WANDB_PROJECT\"] = \"car_racer_gym\"\n",
    "    os.environ[\"WANDB_RESUME\"]  = \"allow\"\n",
    "    wandb.init()\n",
    "    model_artifact = wandb.use_artifact(MODEL_SAVE_NAME+':'+SAVED_MODEL_VERSION, type='model')\n",
    "    artifact_dir = model_artifact.download()\n",
    "    loaded_model = model.load(artifact_dir+\"/\"+MODEL_SAVE_NAME)\n",
    "\n",
    "    # play model\n",
    "    env = gym.wrappers.Monitor(env, video_path, force=True)\n",
    "    obs = env.reset()\n",
    "    done = False\n",
    "    while not done:\n",
    "        action, _states = loaded_model.predict(obs,deterministic=True)\n",
    "        obs, reward, done, info = env.step(action)\n",
    "    env.close()\n",
    "\n",
    "    # display video\n",
    "    mp4list = glob.glob(video_path+'/*.mp4')\n",
    "    print(mp4list)\n",
    "    if len(mp4list) > 0:\n",
    "        print(len(mp4list))\n",
    "        mp4 = max(mp4list, key=os.path.getctime)\n",
    "        # mp4 = mp4list[-1]\n",
    "        video = io.open(mp4, 'r+b').read()\n",
    "        encoded = base64.b64encode(video)\n",
    "\n",
    "        # log gameplay video in wandb\n",
    "        wandb.log({\"gameplays\": wandb.Video(mp4, fps=4, format=\"gif\")})\n",
    "\n",
    "        # display gameplay video\n",
    "        ipythondisplay.clear_output(wait=True)\n",
    "        ipythondisplay.display(HTML(data='''<video alt=\"\" autoplay \n",
    "                    loop controls style=\"height: 400px;\">\n",
    "                    <source src=\"data:video/mp4;base64,{0}\" type=\"video/mp4\" />\n",
    "                </video>'''.format(encoded.decode('ascii'))))\n",
    "        print(\"Video path: \", mp4)"
   ]
  },
  {
   "cell_type": "code",
   "execution_count": null,
   "id": "b2f28a87",
   "metadata": {},
   "outputs": [],
   "source": [
    "from stable_baselines3 import DQN\n",
    "\n",
    "env = CarRacingDiscrete(10000)\n",
    "\n",
    "evaluate_version(DQN, env, \"DQN_RL_54\", \"v9\", \"./video\")\n",
    "\n"
   ]
  },
  {
   "cell_type": "code",
   "execution_count": null,
   "id": "d5ae5c57",
   "metadata": {},
   "outputs": [],
   "source": []
  }
 ],
 "metadata": {
  "kernelspec": {
   "display_name": "Python 3 (ipykernel)",
   "language": "python",
   "name": "python3"
  },
  "language_info": {
   "codemirror_mode": {
    "name": "ipython",
    "version": 3
   },
   "file_extension": ".py",
   "mimetype": "text/x-python",
   "name": "python",
   "nbconvert_exporter": "python",
   "pygments_lexer": "ipython3",
   "version": "3.11.0"
  }
 },
 "nbformat": 4,
 "nbformat_minor": 5
}
